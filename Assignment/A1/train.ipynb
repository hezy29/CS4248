{
 "cells": [
  {
   "cell_type": "code",
   "execution_count": 23,
   "metadata": {},
   "outputs": [],
   "source": [
    "with open(\"./released/sents.train\") as f:\n",
    "    texts_train = f.read()\n",
    "f.close()\n"
   ]
  },
  {
   "cell_type": "code",
   "execution_count": 24,
   "metadata": {},
   "outputs": [],
   "source": [
    "# words_train = texts_train.replace(\"\\n\", \" \")[:-1].split(sep=\" \")\n"
   ]
  },
  {
   "cell_type": "code",
   "execution_count": 25,
   "metadata": {},
   "outputs": [],
   "source": [
    "paragraphs_train = texts_train.split(\"\\n\")[:-1]\n"
   ]
  },
  {
   "cell_type": "code",
   "execution_count": 26,
   "metadata": {},
   "outputs": [],
   "source": [
    "PennTreebankPOS = {\"[START]\": {}, \"[END]\": {}}\n",
    "WordEmission = {}\n",
    "\n",
    "\n",
    "for paragraph_train in paragraphs_train:\n",
    "    words_train = paragraph_train.split(\" \")\n",
    "    prev_POS = \"[START]\"\n",
    "\n",
    "    for word_train in words_train:\n",
    "        tag = word_train.split(\"/\")[-1]\n",
    "        word = word_train[: -(len(tag) + 1)]\n",
    "\n",
    "        if not tag in PennTreebankPOS.keys():  # Create new state\n",
    "            PennTreebankPOS[tag] = {}\n",
    "        if not tag in PennTreebankPOS[prev_POS].keys():  # a_ij from 0 to 1\n",
    "            PennTreebankPOS[prev_POS][tag] = 1\n",
    "        else:\n",
    "            PennTreebankPOS[prev_POS][tag] += 1  # a_ij from x to x+1 (x > 0)\n",
    "\n",
    "        # Observation Likelihood\n",
    "        if not tag in WordEmission.keys():\n",
    "            WordEmission[tag] = {word: 1}\n",
    "        else:\n",
    "            if not word in WordEmission[tag].keys():\n",
    "                WordEmission[tag][word] = 1\n",
    "            else:\n",
    "                WordEmission[tag][word] += 1\n",
    "\n",
    "        prev_POS = tag\n",
    "\n",
    "    if not \"[END]\" in PennTreebankPOS[prev_POS].keys():\n",
    "        PennTreebankPOS[prev_POS][\"[END]\"] = 1\n",
    "    else:\n",
    "        PennTreebankPOS[prev_POS][\"[END]\"] += 1\n"
   ]
  },
  {
   "cell_type": "code",
   "execution_count": 41,
   "metadata": {},
   "outputs": [],
   "source": [
    "Words = set()\n",
    "for item in WordEmission.values():\n",
    "    for word in item.keys():\n",
    "        Words.add(word)\n"
   ]
  },
  {
   "cell_type": "code",
   "execution_count": 53,
   "metadata": {},
   "outputs": [],
   "source": [
    "def ProbScale(x: dict, ref: set or dict or list = None, smoothing: str = None):\n",
    "    out = x\n",
    "    for i in out.keys():\n",
    "        sum_i = sum(out[i].values())\n",
    "        for j in out[i].keys():\n",
    "            if not smoothing:\n",
    "                out[i][j] /= sum_i\n",
    "            elif smoothing == \"Witten-Bell\":\n",
    "                out[i][j] /= sum_i + len(out.keys())\n",
    "        if smoothing == \"Witten-Bell\":\n",
    "            for ind in ref:\n",
    "                if not ind in out[i].keys():\n",
    "                    out[i][ind] = len(out.keys()) / (\n",
    "                        len(ref) * (sum_i + len(out.keys()))\n",
    "                    )\n",
    "    return out\n"
   ]
  },
  {
   "cell_type": "code",
   "execution_count": 54,
   "metadata": {},
   "outputs": [],
   "source": [
    "POS_trans_mat = ProbScale(PennTreebankPOS, WordEmission.keys(), smoothing=\"Witten-Bell\")\n",
    "obs_emi_mat = ProbScale(WordEmission, Words, smoothing=\"Witten-Bell\")\n"
   ]
  },
  {
   "cell_type": "code",
   "execution_count": 55,
   "metadata": {},
   "outputs": [
    {
     "data": {
      "text/plain": [
       "45"
      ]
     },
     "execution_count": 55,
     "metadata": {},
     "output_type": "execute_result"
    }
   ],
   "source": [
    "WordEmission.keys().__len__()\n"
   ]
  },
  {
   "cell_type": "code",
   "execution_count": null,
   "metadata": {},
   "outputs": [],
   "source": []
  }
 ],
 "metadata": {
  "kernelspec": {
   "display_name": "Python 3.10.6 64-bit",
   "language": "python",
   "name": "python3"
  },
  "language_info": {
   "codemirror_mode": {
    "name": "ipython",
    "version": 3
   },
   "file_extension": ".py",
   "mimetype": "text/x-python",
   "name": "python",
   "nbconvert_exporter": "python",
   "pygments_lexer": "ipython3",
   "version": "3.10.6"
  },
  "orig_nbformat": 4,
  "vscode": {
   "interpreter": {
    "hash": "b0fa6594d8f4cbf19f97940f81e996739fb7646882a419484c72d19e05852a7e"
   }
  }
 },
 "nbformat": 4,
 "nbformat_minor": 2
}
