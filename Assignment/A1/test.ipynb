{
 "cells": [
  {
   "cell_type": "code",
   "execution_count": 1,
   "metadata": {},
   "outputs": [],
   "source": [
    "import json\n",
    "import numpy as np\n"
   ]
  },
  {
   "cell_type": "code",
   "execution_count": 2,
   "metadata": {},
   "outputs": [],
   "source": [
    "with open(\"./released/sents.test\", \"r\") as f:\n",
    "    texts_test = f.read()\n",
    "f.close()\n"
   ]
  },
  {
   "cell_type": "code",
   "execution_count": 3,
   "metadata": {},
   "outputs": [],
   "source": [
    "with open(\"./released/model-file/transition_probability\", \"r\") as f:\n",
    "    A = json.load(f)\n",
    "f.close()\n",
    "with open(\"./released/model-file/observation_likelihood\", \"r\") as f:\n",
    "    B = json.load(f)\n",
    "f.close()\n"
   ]
  },
  {
   "cell_type": "code",
   "execution_count": 4,
   "metadata": {},
   "outputs": [],
   "source": [
    "paragraphs_test = texts_test.split(\"\\n\")[:-1]\n"
   ]
  },
  {
   "cell_type": "code",
   "execution_count": 5,
   "metadata": {},
   "outputs": [],
   "source": [
    "p1 = paragraphs_test[0]\n"
   ]
  },
  {
   "cell_type": "code",
   "execution_count": 6,
   "metadata": {},
   "outputs": [],
   "source": [
    "def get_tprob(A: dict, from_state: str, to_state: str):\n",
    "    out = 0\n",
    "    if to_state in A[from_state].keys():\n",
    "        out = A[from_state][to_state]\n",
    "    return out\n",
    "\n",
    "\n",
    "def get_obsl(B: dict, state: str, word: str):\n",
    "    out = 0\n",
    "    if word in B[state].keys():\n",
    "        out = B[state][word]\n",
    "    return out\n"
   ]
  },
  {
   "cell_type": "code",
   "execution_count": 7,
   "metadata": {},
   "outputs": [],
   "source": [
    "words_test = p1.split(\" \")\n"
   ]
  },
  {
   "cell_type": "code",
   "execution_count": 8,
   "metadata": {},
   "outputs": [],
   "source": [
    "# Intial State\n",
    "word = words_test[0]\n",
    "viterbi = np.array(\n",
    "    [[get_tprob(A, \"[START]\", state) * get_obsl(B, state, word) for state in B.keys()]]\n",
    ").T\n",
    "backpoint = -np.ones((len(B.keys()), 1))\n",
    "for word in words_test[1:]:\n",
    "    vit_new_col = np.array(\n",
    "        [\n",
    "            [\n",
    "                (\n",
    "                    viterbi[:, -1]\n",
    "                    * np.array(\n",
    "                        [get_tprob(A, prev_state, state) for prev_state in B.keys()]\n",
    "                    )\n",
    "                    * get_obsl(B, state, word)\n",
    "                ).max()\n",
    "                for state in B.keys()\n",
    "            ]\n",
    "        ]\n",
    "    ).T\n",
    "    bp_new_col = np.array(\n",
    "        [\n",
    "            [\n",
    "                (\n",
    "                    viterbi[:, -1]\n",
    "                    * np.array(\n",
    "                        [get_tprob(A, prev_state, state) for prev_state in B.keys()]\n",
    "                    )\n",
    "                ).argmax()\n",
    "                for state in B.keys()\n",
    "            ]\n",
    "        ]\n",
    "    ).T\n",
    "    viterbi = np.column_stack((viterbi, vit_new_col))\n",
    "    backpoint = np.column_stack((backpoint, bp_new_col))\n",
    "\n",
    "vit_last = (\n",
    "    viterbi[:, -1]\n",
    "    * np.array([get_tprob(A, prev_state, \"[END]\") for prev_state in B.keys()])\n",
    ").max()\n",
    "bp_last = (\n",
    "    viterbi[:, -1]\n",
    "    * np.array([get_tprob(A, prev_state, \"[END]\") for prev_state in B.keys()])\n",
    ").argmax()\n"
   ]
  },
  {
   "cell_type": "code",
   "execution_count": 9,
   "metadata": {},
   "outputs": [],
   "source": [
    "backtrace = [bp_last]\n",
    "for j in range(len(words_test), 1, -1):\n",
    "    backtrace.insert(0, int(backpoint[backtrace[0]][j - 1]))\n"
   ]
  },
  {
   "cell_type": "code",
   "execution_count": 10,
   "metadata": {},
   "outputs": [],
   "source": [
    "tag_test = [list(B.keys())[j] for j in backtrace]\n"
   ]
  },
  {
   "cell_type": "code",
   "execution_count": 11,
   "metadata": {},
   "outputs": [],
   "source": [
    "output = [a + \"/\" + b for a, b in zip(words_test, tag_test)]\n"
   ]
  },
  {
   "cell_type": "code",
   "execution_count": 13,
   "metadata": {},
   "outputs": [],
   "source": [
    "paragraph_tagged = \" \".join(output)\n"
   ]
  },
  {
   "cell_type": "code",
   "execution_count": 14,
   "metadata": {},
   "outputs": [],
   "source": [
    "paragraphs_tagged = []\n"
   ]
  },
  {
   "cell_type": "code",
   "execution_count": 16,
   "metadata": {},
   "outputs": [],
   "source": [
    "paragraphs_tagged.append(paragraph_tagged)\n"
   ]
  },
  {
   "cell_type": "code",
   "execution_count": 20,
   "metadata": {},
   "outputs": [],
   "source": [
    "texts_tagged = \"\\n\".join(paragraphs_tagged) + \"\\n\"\n"
   ]
  },
  {
   "cell_type": "code",
   "execution_count": 23,
   "metadata": {},
   "outputs": [],
   "source": [
    "with open(\"temp\", \"w\") as f:\n",
    "    f.write(texts_tagged)\n",
    "f.close()\n"
   ]
  },
  {
   "cell_type": "code",
   "execution_count": null,
   "metadata": {},
   "outputs": [],
   "source": []
  }
 ],
 "metadata": {
  "kernelspec": {
   "display_name": "Python 3.10.6 64-bit",
   "language": "python",
   "name": "python3"
  },
  "language_info": {
   "codemirror_mode": {
    "name": "ipython",
    "version": 3
   },
   "file_extension": ".py",
   "mimetype": "text/x-python",
   "name": "python",
   "nbconvert_exporter": "python",
   "pygments_lexer": "ipython3",
   "version": "3.10.6"
  },
  "orig_nbformat": 4,
  "vscode": {
   "interpreter": {
    "hash": "b0fa6594d8f4cbf19f97940f81e996739fb7646882a419484c72d19e05852a7e"
   }
  }
 },
 "nbformat": 4,
 "nbformat_minor": 2
}
