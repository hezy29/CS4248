{
 "cells": [
  {
   "cell_type": "code",
   "execution_count": 18,
   "metadata": {},
   "outputs": [],
   "source": [
    "import numpy as np\n"
   ]
  },
  {
   "cell_type": "code",
   "execution_count": 19,
   "metadata": {},
   "outputs": [],
   "source": [
    "with open(\"./released/sents.train\") as f:\n",
    "    texts_train = f.read()\n",
    "f.close()\n"
   ]
  },
  {
   "cell_type": "code",
   "execution_count": 20,
   "metadata": {},
   "outputs": [],
   "source": [
    "words_train = texts_train.replace(\"\\n\", \" \")[:-1].split(sep=\" \")\n"
   ]
  },
  {
   "cell_type": "code",
   "execution_count": 21,
   "metadata": {},
   "outputs": [],
   "source": [
    "prev_POS = \"[START]\"\n",
    "\n",
    "# dict_train = {}\n",
    "PennTreebankPOS = {\"[START]\": {}}\n",
    "WordEmission = {}\n",
    "for word_train in words_train:\n",
    "    tag = word_train.split(\"/\")[-1]\n",
    "    word = word_train[: -(len(tag) + 1)]\n",
    "\n",
    "    # # Multi part of speech\n",
    "    # if not word in dict_train.keys():\n",
    "    #     dict_train[word] = {tag}\n",
    "    # else:\n",
    "    #     if tag not in dict_train[word]:\n",
    "    #         dict_train[word].add(tag)\n",
    "\n",
    "    # Transition Probability Matrix\n",
    "    if not tag in PennTreebankPOS.keys():  # Create new state\n",
    "        PennTreebankPOS[tag] = {}\n",
    "    if tag not in PennTreebankPOS[prev_POS].keys():  # a_ij from 0 to 1\n",
    "        PennTreebankPOS[prev_POS][tag] = 1\n",
    "    else:\n",
    "        PennTreebankPOS[prev_POS][tag] += 1  # a_ij from x to x+1 (x > 0)\n",
    "\n",
    "    # Observation Likelihood\n",
    "    if not tag in WordEmission.keys():\n",
    "        WordEmission[tag] = {word: 1}\n",
    "    else:\n",
    "        if not word in WordEmission[tag].keys():\n",
    "            WordEmission[tag][word] = 1\n",
    "        else:\n",
    "            WordEmission[tag][word] += 1\n",
    "\n",
    "    prev_POS = tag\n"
   ]
  },
  {
   "cell_type": "code",
   "execution_count": 33,
   "metadata": {},
   "outputs": [],
   "source": [
    "def ProbScale(x: dict):\n",
    "    out = x.copy()\n",
    "    for i in out.keys():\n",
    "        sum_i = sum(out[i].values())\n",
    "        for j in out[i].keys():\n",
    "            out[i][j] /= sum_i\n",
    "    return out\n"
   ]
  },
  {
   "cell_type": "code",
   "execution_count": 27,
   "metadata": {},
   "outputs": [],
   "source": [
    "POS_trans_mat = ProbScale(PennTreebankPOS)\n",
    "obs_emi_mat = ProbScale(WordEmission)\n"
   ]
  },
  {
   "cell_type": "code",
   "execution_count": null,
   "metadata": {},
   "outputs": [],
   "source": []
  }
 ],
 "metadata": {
  "kernelspec": {
   "display_name": "Python 3.8.10 64-bit",
   "language": "python",
   "name": "python3"
  },
  "language_info": {
   "codemirror_mode": {
    "name": "ipython",
    "version": 3
   },
   "file_extension": ".py",
   "mimetype": "text/x-python",
   "name": "python",
   "nbconvert_exporter": "python",
   "pygments_lexer": "ipython3",
   "version": "3.8.10"
  },
  "orig_nbformat": 4,
  "vscode": {
   "interpreter": {
    "hash": "31f2aee4e71d21fbe5cf8b01ff0e069b9275f58929596ceb00d14d90e3e16cd6"
   }
  }
 },
 "nbformat": 4,
 "nbformat_minor": 2
}
