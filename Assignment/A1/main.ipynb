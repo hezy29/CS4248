{
 "cells": [
  {
   "cell_type": "code",
   "execution_count": 8,
   "metadata": {},
   "outputs": [],
   "source": [
    "import numpy as np\n"
   ]
  },
  {
   "cell_type": "code",
   "execution_count": 9,
   "metadata": {},
   "outputs": [],
   "source": [
    "with open(\"./released/sents.train\") as f:\n",
    "    texts_train = f.read()\n",
    "f.close()\n"
   ]
  },
  {
   "cell_type": "code",
   "execution_count": 43,
   "metadata": {},
   "outputs": [],
   "source": [
    "words_train = texts_train.replace(\"\\n\", \" \")[:-1].split(sep=\" \")\n"
   ]
  },
  {
   "cell_type": "code",
   "execution_count": 44,
   "metadata": {},
   "outputs": [],
   "source": [
    "prev_POS = \"[START]\"\n",
    "\n",
    "dict_train = {}\n",
    "PennTreebankPOS = {\"[START]\": {}}\n",
    "P_emission = {}\n",
    "for word_train in words_train:\n",
    "    tag = word_train.split(\"/\")[-1]\n",
    "    word = word_train[: -(len(tag) + 1)]\n",
    "\n",
    "    # Multi part of speech\n",
    "    if not word in dict_train.keys():\n",
    "        dict_train[word] = {tag}\n",
    "    else:\n",
    "        if tag not in dict_train[word]:\n",
    "            dict_train[word].add(tag)\n",
    "\n",
    "    # Transition Probability Matrix\n",
    "    if not tag in PennTreebankPOS.keys():  # Create new state\n",
    "        PennTreebankPOS[tag] = {}\n",
    "    if tag not in PennTreebankPOS[prev_POS].keys():  # a_ij from 0 to 1\n",
    "        PennTreebankPOS[prev_POS][tag] = 1\n",
    "    else:\n",
    "        PennTreebankPOS[prev_POS][tag] += 1  # a_ij from x to x+1 (x > 0)\n",
    "\n",
    "    # Observation Likelihood\n",
    "    if not tag in P_emission.keys():\n",
    "        P_emission[tag] = {word: 1}\n",
    "    else:\n",
    "        if not word in P_emission[tag].keys():\n",
    "            P_emission[tag][word] = 1\n",
    "        else:\n",
    "            P_emission[tag][word] += 1\n",
    "\n",
    "    prev_POS = tag\n"
   ]
  }
 ],
 "metadata": {
  "kernelspec": {
   "display_name": "Python 3.9.6 64-bit",
   "language": "python",
   "name": "python3"
  },
  "language_info": {
   "codemirror_mode": {
    "name": "ipython",
    "version": 3
   },
   "file_extension": ".py",
   "mimetype": "text/x-python",
   "name": "python",
   "nbconvert_exporter": "python",
   "pygments_lexer": "ipython3",
   "version": "3.10.6"
  },
  "orig_nbformat": 4,
  "vscode": {
   "interpreter": {
    "hash": "b0fa6594d8f4cbf19f97940f81e996739fb7646882a419484c72d19e05852a7e"
   }
  }
 },
 "nbformat": 4,
 "nbformat_minor": 2
}
